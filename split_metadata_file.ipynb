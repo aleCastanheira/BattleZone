{
  "nbformat": 4,
  "nbformat_minor": 0,
  "metadata": {
    "colab": {
      "provenance": [],
      "mount_file_id": "19buNAfSF_DyxfhRSIaH5r2gNP_S1Gew0",
      "authorship_tag": "ABX9TyPmNLIJcmYctSVMQx3K5/II",
      "include_colab_link": true
    },
    "kernelspec": {
      "name": "python3",
      "display_name": "Python 3"
    },
    "language_info": {
      "name": "python"
    }
  },
  "cells": [
    {
      "cell_type": "markdown",
      "metadata": {
        "id": "view-in-github",
        "colab_type": "text"
      },
      "source": [
        "<a href=\"https://colab.research.google.com/github/aleCastanheira/BattleZone/blob/master/split_metadata_file.ipynb\" target=\"_parent\"><img src=\"https://colab.research.google.com/assets/colab-badge.svg\" alt=\"Open In Colab\"/></a>"
      ]
    },
    {
      "cell_type": "code",
      "execution_count": null,
      "metadata": {
        "id": "YDf0HKteyWZF"
      },
      "outputs": [],
      "source": [
        "import pandas as pd"
      ]
    },
    {
      "cell_type": "code",
      "source": [
        "filepath = \"/content/drive/MyDrive/TCC/metadata_file.csv\"\n",
        "df = pd.read_csv(filepath)"
      ],
      "metadata": {
        "id": "DRTAvJAjycRv"
      },
      "execution_count": null,
      "outputs": []
    },
    {
      "cell_type": "code",
      "source": [
        "df.loc[df[\"bucket\"] == 'pd-datalake-us-east-2-prod', \"bucket\"] = 1\n",
        "df.loc[df[\"bucket\"] == 'pd-data-lake-localytics-us-east-2-prod', \"bucket\"] = 2"
      ],
      "metadata": {
        "id": "1slQRd6Uyeoy"
      },
      "execution_count": null,
      "outputs": []
    },
    {
      "cell_type": "code",
      "source": [
        "PATH = \"path\"\n",
        "FILENAME = \"filename\"\n",
        "KEY = \"key\"\n",
        "\n",
        "df[PATH] = df[KEY]\n",
        "df[[PATH, FILENAME]] = df[PATH].str.rsplit(\"/\", expand=True, n=1)\n",
        "\n",
        "for partition_number in range(1, 7):\n",
        "    df[[PATH, f\"partition_{partition_number}\"]] = df[PATH].str.rsplit(\"/\", expand=True, n=1)\n",
        "    df[[f\"partition_{partition_number}_name\", f\"partition_{partition_number}_value\"]] = df[f\"partition_{partition_number}\"].str.rsplit(\"=\", expand=True, n=1)"
      ],
      "metadata": {
        "id": "sqQMaHVfygze"
      },
      "execution_count": null,
      "outputs": []
    },
    {
      "cell_type": "code",
      "source": [
        "df.head()"
      ],
      "metadata": {
        "id": "wBpIAJONyiZw"
      },
      "execution_count": null,
      "outputs": []
    }
  ]
}